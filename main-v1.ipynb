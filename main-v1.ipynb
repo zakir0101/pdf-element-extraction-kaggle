{
 "cells": [
  {
   "cell_type": "code",
   "execution_count": null,
   "metadata": {
    "_cell_guid": "09ce0dc0-7689-48ab-a594-333c0ad0e96e",
    "_uuid": "a77c9863-54a9-43e4-a101-530575e8d025",
    "collapsed": false,
    "execution": {
     "iopub.status.busy": "2025-06-08T07:10:19.482949Z",
     "iopub.status.idle": "2025-06-08T07:10:19.483197Z",
     "shell.execute_reply": "2025-06-08T07:10:19.483106Z",
     "shell.execute_reply.started": "2025-06-08T07:10:19.483096Z"
    },
    "jupyter": {
     "outputs_hidden": false
    },
    "scrolled": true
   },
   "outputs": [],
   "source": [
    "!apt-get update &&    apt-get install -y   software-properties-common &&  add-apt-repository ppa:deadsnakes/ppa -y \n",
    "!apt-get update \n",
    "\n",
    "!apt-get install -y    python3.10    python3.10-venv    python3.10-distutils    python3-pip    wget    git    libgl1    libreoffice    fonts-noto-cjk    fonts-wqy-zenhei    fonts-wqy-microhei    ttf-mscorefonts-installer    fontconfig    libglib2.0-0    libxrender1    libsm6    libxext6    poppler-utils \\\n",
    "\n",
    "!update-alternatives --install /usr/bin/python3 python3 /usr/bin/python3.10 1"
   ]
  },
  {
   "cell_type": "code",
   "execution_count": null,
   "metadata": {
    "_cell_guid": "fa17bc54-6cbf-4c6d-94b3-95a6c6d0f29f",
    "_uuid": "0e99fee1-6300-4c5e-8672-91f5a67a84ce",
    "collapsed": false,
    "execution": {
     "iopub.status.busy": "2025-06-08T07:10:19.484515Z",
     "iopub.status.idle": "2025-06-08T07:10:19.484756Z",
     "shell.execute_reply": "2025-06-08T07:10:19.484649Z",
     "shell.execute_reply.started": "2025-06-08T07:10:19.484637Z"
    },
    "jupyter": {
     "outputs_hidden": false
    },
    "lines_to_next_cell": 2
   },
   "outputs": [],
   "source": [
    "!pip install -U \"magic-pdf[full]\"\n",
    "!pip install flask pyngrok\n",
    "!pip install huggingface_hub"
   ]
  },
  {
   "cell_type": "code",
   "execution_count": 37,
   "metadata": {
    "_cell_guid": "c2f2a50e-408a-4e83-b098-37adfc48afc3",
    "_uuid": "061c06ab-957d-44f9-9f3c-76259b06ace8",
    "collapsed": false,
    "execution": {
     "iopub.execute_input": "2025-06-08T07:10:31.356734Z",
     "iopub.status.busy": "2025-06-08T07:10:31.356125Z",
     "iopub.status.idle": "2025-06-08T07:10:32.246732Z",
     "shell.execute_reply": "2025-06-08T07:10:32.245998Z",
     "shell.execute_reply.started": "2025-06-08T07:10:31.356706Z"
    },
    "jupyter": {
     "outputs_hidden": false
    }
   },
   "outputs": [
    {
     "name": "stdout",
     "output_type": "stream",
     "text": [
      "--2025-06-08 07:10:31--  https://github.com/opendatalab/MinerU/raw/master/scripts/download_models_hf.py\n",
      "Resolving github.com (github.com)... 140.82.116.3\n",
      "Connecting to github.com (github.com)|140.82.116.3|:443... connected.\n",
      "HTTP request sent, awaiting response... 302 Found\n",
      "Location: https://raw.githubusercontent.com/opendatalab/MinerU/master/scripts/download_models_hf.py [following]\n",
      "--2025-06-08 07:10:31--  https://raw.githubusercontent.com/opendatalab/MinerU/master/scripts/download_models_hf.py\n",
      "Resolving raw.githubusercontent.com (raw.githubusercontent.com)... 185.199.109.133, 185.199.110.133, 185.199.108.133, ...\n",
      "Connecting to raw.githubusercontent.com (raw.githubusercontent.com)|185.199.109.133|:443... connected.\n",
      "HTTP request sent, awaiting response... 200 OK\n",
      "Length: 2386 (2.3K) [text/plain]\n",
      "Saving to: ‘download_models_hf.py’\n",
      "\n",
      "download_models_hf. 100%[===================>]   2.33K  --.-KB/s    in 0s      \n",
      "\n",
      "2025-06-08 07:10:31 (35.2 MB/s) - ‘download_models_hf.py’ saved [2386/2386]\n",
      "\n",
      "Fetching 33 files: 100%|█████████████████████| 33/33 [00:00<00:00, 28001.62it/s]\n",
      "Fetching 2 files: 100%|█████████████████████████| 2/2 [00:00<00:00, 7078.99it/s]\n",
      "model_dir is: /root/.cache/huggingface/hub/models--opendatalab--PDF-Extract-Kit-1.0/snapshots/94736d90d98216c30edeef5577ae89a7be656bf5/models\n",
      "layoutreader_model_dir is: /root/.cache/huggingface/hub/models--hantian--layoutreader/snapshots/629be376d86fbab624ddc4020804a4e93b5515bc\n",
      "The configuration file has been configured successfully, the path is: /root/magic-pdf.json\n"
     ]
    }
   ],
   "source": [
    "!wget https://github.com/opendatalab/MinerU/raw/master/scripts/download_models_hf.py -O download_models_hf.py\n",
    "!python download_models_hf.py"
   ]
  },
  {
   "cell_type": "code",
   "execution_count": null,
   "metadata": {
    "_cell_guid": "cfd09c8e-63ac-4c20-9951-f499083bbab5",
    "_uuid": "113198eb-55c7-421d-9c28-ccaa6708b5d2",
    "collapsed": false,
    "execution": {
     "iopub.status.busy": "2025-06-08T07:10:19.487471Z",
     "iopub.status.idle": "2025-06-08T07:10:19.487786Z",
     "shell.execute_reply": "2025-06-08T07:10:19.487630Z",
     "shell.execute_reply.started": "2025-06-08T07:10:19.487617Z"
    },
    "jupyter": {
     "outputs_hidden": false
    }
   },
   "outputs": [],
   "source": [
    "!wget https://github.com/opendatalab/MinerU/raw/master/magic-pdf.template.json &&  cp magic-pdf.template.json /root/magic-pdf.json\n",
    "!sed -i 's|cpu|cuda|g' /root/magic-pdf.json\n",
    "!cat /root/magic-pdf.json"
   ]
  },
  {
   "cell_type": "code",
   "execution_count": null,
   "metadata": {
    "_cell_guid": "235e1092-2c2a-4f92-a314-d8986341a274",
    "_uuid": "1761ba3e-cc9c-4c62-bb84-4bc45578cc4e",
    "collapsed": false,
    "execution": {
     "iopub.execute_input": "2025-06-08T07:25:44.738180Z",
     "iopub.status.busy": "2025-06-08T07:25:44.737521Z"
    },
    "jupyter": {
     "outputs_hidden": false
    }
   },
   "outputs": [
    {
     "name": "stdout",
     "output_type": "stream",
     "text": [
      "rm: missing operand\n",
      "Try 'rm --help' for more information.\n",
      "✅ Kaggle is now live at: NgrokTunnel: \"https://f152-34-127-104-190.ngrok-free.app\" -> \"http://localhost:5000\"\n",
      "✅ Model loaded successfully (this is a placeholder).\n",
      " * Serving Flask app '__main__'\n",
      " * Debug mode: off\n"
     ]
    },
    {
     "name": "stderr",
     "output_type": "stream",
     "text": [
      "\u001b[32m2025-06-08 07:26:26.485\u001b[0m | \u001b[1mINFO    \u001b[0m | \u001b[36mmagic_pdf.data.dataset\u001b[0m:\u001b[36m__init__\u001b[0m:\u001b[36m256\u001b[0m - \u001b[1mlang: ch_server\u001b[0m\n",
      "\u001b[32m2025-06-08 07:26:26.509\u001b[0m | \u001b[1mINFO    \u001b[0m | \u001b[36mmagic_pdf.data.dataset\u001b[0m:\u001b[36m__init__\u001b[0m:\u001b[36m256\u001b[0m - \u001b[1mlang: ch_server\u001b[0m\n",
      "\u001b[32m2025-06-08 07:26:26.532\u001b[0m | \u001b[1mINFO    \u001b[0m | \u001b[36mmagic_pdf.data.dataset\u001b[0m:\u001b[36m__init__\u001b[0m:\u001b[36m256\u001b[0m - \u001b[1mlang: ch_server\u001b[0m\n",
      "\u001b[32m2025-06-08 07:26:26.543\u001b[0m | \u001b[1mINFO    \u001b[0m | \u001b[36mmagic_pdf.data.dataset\u001b[0m:\u001b[36m__init__\u001b[0m:\u001b[36m256\u001b[0m - \u001b[1mlang: ch_server\u001b[0m\n",
      "\u001b[32m2025-06-08 07:26:26.562\u001b[0m | \u001b[1mINFO    \u001b[0m | \u001b[36mmagic_pdf.data.dataset\u001b[0m:\u001b[36m__init__\u001b[0m:\u001b[36m256\u001b[0m - \u001b[1mlang: ch_server\u001b[0m\n",
      "\u001b[32m2025-06-08 07:26:26.579\u001b[0m | \u001b[1mINFO    \u001b[0m | \u001b[36mmagic_pdf.data.dataset\u001b[0m:\u001b[36m__init__\u001b[0m:\u001b[36m256\u001b[0m - \u001b[1mlang: ch_server\u001b[0m\n",
      "\u001b[32m2025-06-08 07:26:26.592\u001b[0m | \u001b[1mINFO    \u001b[0m | \u001b[36mmagic_pdf.data.dataset\u001b[0m:\u001b[36m__init__\u001b[0m:\u001b[36m256\u001b[0m - \u001b[1mlang: ch_server\u001b[0m\n",
      "\u001b[32m2025-06-08 07:26:26.603\u001b[0m | \u001b[1mINFO    \u001b[0m | \u001b[36mmagic_pdf.data.dataset\u001b[0m:\u001b[36m__init__\u001b[0m:\u001b[36m256\u001b[0m - \u001b[1mlang: ch_server\u001b[0m\n"
     ]
    },
    {
     "name": "stdout",
     "output_type": "stream",
     "text": [
      "{'idx': ['0580_m23_qp_32_2', '0580_m23_qp_32_2_a_i', '0580_m23_qp_32_2_a_ii', '0580_m23_qp_32_2_a_iii', '0580_m23_qp_32_2_b_i', '0580_m23_qp_32_2_b_ii', '0580_m23_qp_32_2_b_iii', '0580_m23_qp_32_2_b_iv'], 'seperator': 'IAM_A_SEPERATOR_PLEASE'}\n"
     ]
    },
    {
     "name": "stderr",
     "output_type": "stream",
     "text": [
      "\u001b[32m2025-06-08 07:26:26.774\u001b[0m | \u001b[1mINFO    \u001b[0m | \u001b[36mmagic_pdf.model.doc_analyze_by_custom_model\u001b[0m:\u001b[36mbatch_doc_analyze\u001b[0m:\u001b[36m223\u001b[0m - \u001b[1mBatch 1/1: 8 pages/8 pages\u001b[0m\n",
      "\u001b[32m2025-06-08 07:26:26.776\u001b[0m | \u001b[1mINFO    \u001b[0m | \u001b[36mmagic_pdf.model.doc_analyze_by_custom_model\u001b[0m:\u001b[36mmay_batch_image_analyze\u001b[0m:\u001b[36m278\u001b[0m - \u001b[1mgpu_memory: 16 GB, batch_ratio: 16\u001b[0m\n",
      "Layout Predict: 100%|██████████| 8/8 [00:00<00:00, 11.31it/s]\n",
      "MFD Predict: 100%|██████████| 8/8 [00:01<00:00,  7.88it/s]\n",
      "MFR Predict: 0it [00:00, ?it/s]\n",
      "OCR-det Predict: 100%|██████████| 8/8 [00:00<00:00,  8.60it/s]\n",
      "Table Predict: 100%|██████████| 1/1 [00:00<00:00,  4.25it/s]\n",
      "OCR-rec Predict: 100%|██████████| 70/70 [00:00<00:00, 78.56it/s] \n",
      "Processing pages: 100%|██████████| 1/1 [00:00<00:00, 10.42it/s]\n",
      "Processing pages: 100%|██████████| 1/1 [00:00<00:00, 12.09it/s]\n",
      "Processing pages: 100%|██████████| 1/1 [00:00<00:00, 11.89it/s]\n",
      "Processing pages: 100%|██████████| 1/1 [00:00<00:00, 18.09it/s]\n",
      "Processing pages: 100%|██████████| 1/1 [00:00<00:00, 18.32it/s]\n",
      "Processing pages: 100%|██████████| 1/1 [00:00<00:00, 18.19it/s]\n",
      "Processing pages: 100%|██████████| 1/1 [00:00<00:00, 18.53it/s]\n",
      "Processing pages: 100%|██████████| 1/1 [00:00<00:00, 18.41it/s]\n",
      "\u001b[32m2025-06-08 07:30:42.547\u001b[0m | \u001b[1mINFO    \u001b[0m | \u001b[36mmagic_pdf.data.dataset\u001b[0m:\u001b[36m__init__\u001b[0m:\u001b[36m256\u001b[0m - \u001b[1mlang: ch_server\u001b[0m\n",
      "\u001b[32m2025-06-08 07:30:42.574\u001b[0m | \u001b[1mINFO    \u001b[0m | \u001b[36mmagic_pdf.data.dataset\u001b[0m:\u001b[36m__init__\u001b[0m:\u001b[36m256\u001b[0m - \u001b[1mlang: ch_server\u001b[0m\n",
      "\u001b[32m2025-06-08 07:30:42.593\u001b[0m | \u001b[1mINFO    \u001b[0m | \u001b[36mmagic_pdf.data.dataset\u001b[0m:\u001b[36m__init__\u001b[0m:\u001b[36m256\u001b[0m - \u001b[1mlang: ch_server\u001b[0m\n",
      "\u001b[32m2025-06-08 07:30:42.606\u001b[0m | \u001b[1mINFO    \u001b[0m | \u001b[36mmagic_pdf.data.dataset\u001b[0m:\u001b[36m__init__\u001b[0m:\u001b[36m256\u001b[0m - \u001b[1mlang: ch_server\u001b[0m\n",
      "\u001b[32m2025-06-08 07:30:42.615\u001b[0m | \u001b[1mINFO    \u001b[0m | \u001b[36mmagic_pdf.data.dataset\u001b[0m:\u001b[36m__init__\u001b[0m:\u001b[36m256\u001b[0m - \u001b[1mlang: ch_server\u001b[0m\n",
      "\u001b[32m2025-06-08 07:30:42.637\u001b[0m | \u001b[1mINFO    \u001b[0m | \u001b[36mmagic_pdf.data.dataset\u001b[0m:\u001b[36m__init__\u001b[0m:\u001b[36m256\u001b[0m - \u001b[1mlang: ch_server\u001b[0m\n",
      "\u001b[32m2025-06-08 07:30:42.653\u001b[0m | \u001b[1mINFO    \u001b[0m | \u001b[36mmagic_pdf.data.dataset\u001b[0m:\u001b[36m__init__\u001b[0m:\u001b[36m256\u001b[0m - \u001b[1mlang: ch_server\u001b[0m\n"
     ]
    },
    {
     "name": "stdout",
     "output_type": "stream",
     "text": [
      "{'idx': ['0580_m23_qp_32_1', '0580_m23_qp_32_1_a', '0580_m23_qp_32_1_b_i', '0580_m23_qp_32_1_b_ii', '0580_m23_qp_32_1_c', '0580_m23_qp_32_1_d_i', '0580_m23_qp_32_1_d_ii'], 'seperator': 'IAM_A_SEPERATOR_PLEASE'}\n"
     ]
    },
    {
     "name": "stderr",
     "output_type": "stream",
     "text": [
      "\u001b[32m2025-06-08 07:30:42.811\u001b[0m | \u001b[1mINFO    \u001b[0m | \u001b[36mmagic_pdf.model.doc_analyze_by_custom_model\u001b[0m:\u001b[36mbatch_doc_analyze\u001b[0m:\u001b[36m223\u001b[0m - \u001b[1mBatch 1/1: 7 pages/7 pages\u001b[0m\n",
      "\u001b[32m2025-06-08 07:30:42.813\u001b[0m | \u001b[1mINFO    \u001b[0m | \u001b[36mmagic_pdf.model.doc_analyze_by_custom_model\u001b[0m:\u001b[36mmay_batch_image_analyze\u001b[0m:\u001b[36m278\u001b[0m - \u001b[1mgpu_memory: 16 GB, batch_ratio: 16\u001b[0m\n",
      "Layout Predict: 100%|██████████| 7/7 [00:00<00:00, 11.40it/s]\n",
      "MFD Predict: 100%|██████████| 7/7 [00:00<00:00,  7.28it/s]\n",
      "MFR Predict: 100%|██████████| 3/3 [00:00<00:00,  4.68it/s]\n",
      "OCR-det Predict: 100%|██████████| 7/7 [00:01<00:00,  6.86it/s]\n",
      "Table Predict: 100%|██████████| 8/8 [00:01<00:00,  5.45it/s]\n",
      "OCR-rec Predict: 100%|██████████| 76/76 [00:01<00:00, 75.32it/s] \n",
      "Processing pages: 100%|██████████| 1/1 [00:00<00:00, 12.36it/s]\n",
      "Processing pages: 100%|██████████| 1/1 [00:00<00:00, 12.38it/s]\n",
      "Processing pages: 100%|██████████| 1/1 [00:00<00:00, 17.16it/s]\n",
      "Processing pages: 100%|██████████| 1/1 [00:00<00:00, 17.41it/s]\n",
      "Processing pages: 100%|██████████| 1/1 [00:00<00:00, 16.26it/s]\n",
      "Processing pages: 100%|██████████| 1/1 [00:00<00:00,  9.01it/s]\n",
      "Processing pages: 100%|██████████| 1/1 [00:00<00:00, 10.49it/s]\n",
      "\u001b[32m2025-06-08 07:38:26.948\u001b[0m | \u001b[1mINFO    \u001b[0m | \u001b[36mmagic_pdf.data.dataset\u001b[0m:\u001b[36m__init__\u001b[0m:\u001b[36m256\u001b[0m - \u001b[1mlang: ch_server\u001b[0m\n",
      "\u001b[32m2025-06-08 07:38:26.975\u001b[0m | \u001b[1mINFO    \u001b[0m | \u001b[36mmagic_pdf.data.dataset\u001b[0m:\u001b[36m__init__\u001b[0m:\u001b[36m256\u001b[0m - \u001b[1mlang: ch_server\u001b[0m\n",
      "\u001b[32m2025-06-08 07:38:26.994\u001b[0m | \u001b[1mINFO    \u001b[0m | \u001b[36mmagic_pdf.data.dataset\u001b[0m:\u001b[36m__init__\u001b[0m:\u001b[36m256\u001b[0m - \u001b[1mlang: ch_server\u001b[0m\n",
      "\u001b[32m2025-06-08 07:38:27.008\u001b[0m | \u001b[1mINFO    \u001b[0m | \u001b[36mmagic_pdf.data.dataset\u001b[0m:\u001b[36m__init__\u001b[0m:\u001b[36m256\u001b[0m - \u001b[1mlang: ch_server\u001b[0m\n",
      "\u001b[32m2025-06-08 07:38:27.018\u001b[0m | \u001b[1mINFO    \u001b[0m | \u001b[36mmagic_pdf.data.dataset\u001b[0m:\u001b[36m__init__\u001b[0m:\u001b[36m256\u001b[0m - \u001b[1mlang: ch_server\u001b[0m\n",
      "\u001b[32m2025-06-08 07:38:27.039\u001b[0m | \u001b[1mINFO    \u001b[0m | \u001b[36mmagic_pdf.data.dataset\u001b[0m:\u001b[36m__init__\u001b[0m:\u001b[36m256\u001b[0m - \u001b[1mlang: ch_server\u001b[0m\n",
      "\u001b[32m2025-06-08 07:38:27.054\u001b[0m | \u001b[1mINFO    \u001b[0m | \u001b[36mmagic_pdf.data.dataset\u001b[0m:\u001b[36m__init__\u001b[0m:\u001b[36m256\u001b[0m - \u001b[1mlang: ch_server\u001b[0m\n"
     ]
    },
    {
     "name": "stdout",
     "output_type": "stream",
     "text": [
      "{'idx': ['0580_m23_qp_32_1', '0580_m23_qp_32_1_a', '0580_m23_qp_32_1_b_i', '0580_m23_qp_32_1_b_ii', '0580_m23_qp_32_1_c', '0580_m23_qp_32_1_d_i', '0580_m23_qp_32_1_d_ii'], 'seperator': 'IAM_A_SEPERATOR_PLEASE'}\n"
     ]
    },
    {
     "name": "stderr",
     "output_type": "stream",
     "text": [
      "\u001b[32m2025-06-08 07:38:27.211\u001b[0m | \u001b[1mINFO    \u001b[0m | \u001b[36mmagic_pdf.model.doc_analyze_by_custom_model\u001b[0m:\u001b[36mbatch_doc_analyze\u001b[0m:\u001b[36m223\u001b[0m - \u001b[1mBatch 1/1: 7 pages/7 pages\u001b[0m\n",
      "\u001b[32m2025-06-08 07:38:27.213\u001b[0m | \u001b[1mINFO    \u001b[0m | \u001b[36mmagic_pdf.model.doc_analyze_by_custom_model\u001b[0m:\u001b[36mmay_batch_image_analyze\u001b[0m:\u001b[36m278\u001b[0m - \u001b[1mgpu_memory: 16 GB, batch_ratio: 16\u001b[0m\n",
      "Layout Predict: 100%|██████████| 7/7 [00:00<00:00, 11.12it/s]\n",
      "MFD Predict: 100%|██████████| 7/7 [00:00<00:00,  7.24it/s]\n",
      "MFR Predict: 100%|██████████| 3/3 [00:00<00:00,  5.53it/s]\n",
      "OCR-det Predict: 100%|██████████| 7/7 [00:01<00:00,  6.87it/s]\n",
      "Table Predict: 100%|██████████| 8/8 [00:01<00:00,  5.04it/s]\n",
      "OCR-rec Predict: 100%|██████████| 76/76 [00:00<00:00, 79.27it/s] \n",
      "Processing pages: 100%|██████████| 1/1 [00:00<00:00, 12.42it/s]\n",
      "Processing pages: 100%|██████████| 1/1 [00:00<00:00, 11.94it/s]\n",
      "Processing pages: 100%|██████████| 1/1 [00:00<00:00, 17.19it/s]\n",
      "Processing pages: 100%|██████████| 1/1 [00:00<00:00, 17.52it/s]\n",
      "Processing pages: 100%|██████████| 1/1 [00:00<00:00, 16.31it/s]\n",
      "Processing pages: 100%|██████████| 1/1 [00:00<00:00,  9.24it/s]\n",
      "Processing pages: 100%|██████████| 1/1 [00:00<00:00, 10.63it/s]\n",
      "\u001b[32m2025-06-08 07:41:39.570\u001b[0m | \u001b[1mINFO    \u001b[0m | \u001b[36mmagic_pdf.data.dataset\u001b[0m:\u001b[36m__init__\u001b[0m:\u001b[36m256\u001b[0m - \u001b[1mlang: ch_server\u001b[0m\n",
      "\u001b[32m2025-06-08 07:41:39.634\u001b[0m | \u001b[1mINFO    \u001b[0m | \u001b[36mmagic_pdf.data.dataset\u001b[0m:\u001b[36m__init__\u001b[0m:\u001b[36m256\u001b[0m - \u001b[1mlang: ch_server\u001b[0m\n",
      "\u001b[32m2025-06-08 07:41:39.691\u001b[0m | \u001b[1mINFO    \u001b[0m | \u001b[36mmagic_pdf.data.dataset\u001b[0m:\u001b[36m__init__\u001b[0m:\u001b[36m256\u001b[0m - \u001b[1mlang: ch_server\u001b[0m\n",
      "\u001b[32m2025-06-08 07:41:39.745\u001b[0m | \u001b[1mINFO    \u001b[0m | \u001b[36mmagic_pdf.data.dataset\u001b[0m:\u001b[36m__init__\u001b[0m:\u001b[36m256\u001b[0m - \u001b[1mlang: ch_server\u001b[0m\n"
     ]
    },
    {
     "name": "stdout",
     "output_type": "stream",
     "text": [
      "{'idx': ['0580_m23_qp_32_1', '0580_m23_qp_32_1_a', '0580_m23_qp_32_1_b_i', '0580_m23_qp_32_1_b_ii', '0580_m23_qp_32_1_c', '0580_m23_qp_32_1_d_i', '0580_m23_qp_32_1_d_ii'], 'seperator': 'IAM_A_SEPERATOR_PLEASE'}\n"
     ]
    },
    {
     "name": "stderr",
     "output_type": "stream",
     "text": [
      "\u001b[32m2025-06-08 07:41:39.777\u001b[0m | \u001b[1mINFO    \u001b[0m | \u001b[36mmagic_pdf.data.dataset\u001b[0m:\u001b[36m__init__\u001b[0m:\u001b[36m256\u001b[0m - \u001b[1mlang: ch_server\u001b[0m\n",
      "\u001b[32m2025-06-08 07:41:39.834\u001b[0m | \u001b[1mINFO    \u001b[0m | \u001b[36mmagic_pdf.data.dataset\u001b[0m:\u001b[36m__init__\u001b[0m:\u001b[36m256\u001b[0m - \u001b[1mlang: ch_server\u001b[0m\n",
      "\u001b[32m2025-06-08 07:41:39.878\u001b[0m | \u001b[1mINFO    \u001b[0m | \u001b[36mmagic_pdf.data.dataset\u001b[0m:\u001b[36m__init__\u001b[0m:\u001b[36m256\u001b[0m - \u001b[1mlang: ch_server\u001b[0m\n",
      "\u001b[32m2025-06-08 07:41:40.394\u001b[0m | \u001b[1mINFO    \u001b[0m | \u001b[36mmagic_pdf.model.doc_analyze_by_custom_model\u001b[0m:\u001b[36mbatch_doc_analyze\u001b[0m:\u001b[36m223\u001b[0m - \u001b[1mBatch 1/1: 7 pages/7 pages\u001b[0m\n",
      "\u001b[32m2025-06-08 07:41:40.396\u001b[0m | \u001b[1mINFO    \u001b[0m | \u001b[36mmagic_pdf.model.doc_analyze_by_custom_model\u001b[0m:\u001b[36mmay_batch_image_analyze\u001b[0m:\u001b[36m278\u001b[0m - \u001b[1mgpu_memory: 16 GB, batch_ratio: 16\u001b[0m\n",
      "Layout Predict: 100%|██████████| 7/7 [00:00<00:00, 12.22it/s]\n",
      "MFD Predict: 100%|██████████| 7/7 [00:00<00:00,  8.12it/s]\n",
      "MFR Predict: 100%|██████████| 21/21 [00:00<00:00, 28.59it/s]\n",
      "OCR-det Predict: 100%|██████████| 7/7 [00:00<00:00,  9.59it/s]\n",
      "Table Predict: 100%|██████████| 7/7 [00:01<00:00,  3.94it/s]\n",
      "OCR-rec Predict: 100%|██████████| 63/63 [00:00<00:00, 81.72it/s] \n",
      "Processing pages: 100%|██████████| 1/1 [00:00<00:00,  7.01it/s]\n",
      "Processing pages: 100%|██████████| 1/1 [00:00<00:00,  7.14it/s]\n",
      "Processing pages: 100%|██████████| 1/1 [00:00<00:00,  7.10it/s]\n",
      "Processing pages: 100%|██████████| 1/1 [00:00<00:00,  7.12it/s]\n",
      "Processing pages: 100%|██████████| 1/1 [00:00<00:00, 18.52it/s]\n",
      "Processing pages: 100%|██████████| 1/1 [00:00<00:00,  6.80it/s]\n",
      "Processing pages: 100%|██████████| 1/1 [00:00<00:00,  9.31it/s]\n",
      "\u001b[32m2025-06-08 07:46:31.256\u001b[0m | \u001b[1mINFO    \u001b[0m | \u001b[36mmagic_pdf.data.dataset\u001b[0m:\u001b[36m__init__\u001b[0m:\u001b[36m256\u001b[0m - \u001b[1mlang: ch_server\u001b[0m\n",
      "\u001b[32m2025-06-08 07:46:31.353\u001b[0m | \u001b[1mINFO    \u001b[0m | \u001b[36mmagic_pdf.data.dataset\u001b[0m:\u001b[36m__init__\u001b[0m:\u001b[36m256\u001b[0m - \u001b[1mlang: ch_server\u001b[0m\n"
     ]
    },
    {
     "name": "stdout",
     "output_type": "stream",
     "text": [
      "{'idx': ['0580_m23_qp_32_1', '0580_m23_qp_32_1_a', '0580_m23_qp_32_1_b_i', '0580_m23_qp_32_1_b_ii', '0580_m23_qp_32_1_c', '0580_m23_qp_32_1_d_i', '0580_m23_qp_32_1_d_ii'], 'seperator': 'IAM_A_SEPERATOR_PLEASE'}\n"
     ]
    },
    {
     "name": "stderr",
     "output_type": "stream",
     "text": [
      "\u001b[32m2025-06-08 07:46:31.421\u001b[0m | \u001b[1mINFO    \u001b[0m | \u001b[36mmagic_pdf.data.dataset\u001b[0m:\u001b[36m__init__\u001b[0m:\u001b[36m256\u001b[0m - \u001b[1mlang: ch_server\u001b[0m\n",
      "\u001b[32m2025-06-08 07:46:31.470\u001b[0m | \u001b[1mINFO    \u001b[0m | \u001b[36mmagic_pdf.data.dataset\u001b[0m:\u001b[36m__init__\u001b[0m:\u001b[36m256\u001b[0m - \u001b[1mlang: ch_server\u001b[0m\n",
      "\u001b[32m2025-06-08 07:46:31.505\u001b[0m | \u001b[1mINFO    \u001b[0m | \u001b[36mmagic_pdf.data.dataset\u001b[0m:\u001b[36m__init__\u001b[0m:\u001b[36m256\u001b[0m - \u001b[1mlang: ch_server\u001b[0m\n",
      "\u001b[32m2025-06-08 07:46:31.586\u001b[0m | \u001b[1mINFO    \u001b[0m | \u001b[36mmagic_pdf.data.dataset\u001b[0m:\u001b[36m__init__\u001b[0m:\u001b[36m256\u001b[0m - \u001b[1mlang: ch_server\u001b[0m\n",
      "\u001b[32m2025-06-08 07:46:31.641\u001b[0m | \u001b[1mINFO    \u001b[0m | \u001b[36mmagic_pdf.data.dataset\u001b[0m:\u001b[36m__init__\u001b[0m:\u001b[36m256\u001b[0m - \u001b[1mlang: ch_server\u001b[0m\n",
      "\u001b[32m2025-06-08 07:46:32.402\u001b[0m | \u001b[1mINFO    \u001b[0m | \u001b[36mmagic_pdf.model.doc_analyze_by_custom_model\u001b[0m:\u001b[36mbatch_doc_analyze\u001b[0m:\u001b[36m223\u001b[0m - \u001b[1mBatch 1/1: 7 pages/7 pages\u001b[0m\n",
      "\u001b[32m2025-06-08 07:46:32.403\u001b[0m | \u001b[1mINFO    \u001b[0m | \u001b[36mmagic_pdf.model.doc_analyze_by_custom_model\u001b[0m:\u001b[36mmay_batch_image_analyze\u001b[0m:\u001b[36m278\u001b[0m - \u001b[1mgpu_memory: 16 GB, batch_ratio: 16\u001b[0m\n",
      "Layout Predict: 100%|██████████| 7/7 [00:00<00:00, 11.07it/s]\n",
      "MFD Predict: 100%|██████████| 7/7 [00:00<00:00,  7.19it/s]\n",
      "MFR Predict: 100%|██████████| 15/15 [00:00<00:00, 29.37it/s]\n",
      "OCR-det Predict: 100%|██████████| 7/7 [00:01<00:00,  6.03it/s]\n",
      "Table Predict: 100%|██████████| 8/8 [00:01<00:00,  5.07it/s]\n",
      "OCR-rec Predict: 100%|██████████| 86/86 [00:01<00:00, 69.67it/s] \n",
      "Processing pages: 100%|██████████| 1/1 [00:00<00:00,  6.36it/s]\n",
      "Processing pages: 100%|██████████| 1/1 [00:00<00:00,  6.35it/s]\n",
      "Processing pages: 100%|██████████| 1/1 [00:00<00:00, 13.59it/s]\n",
      "Processing pages: 100%|██████████| 1/1 [00:00<00:00, 12.99it/s]\n",
      "Processing pages: 100%|██████████| 1/1 [00:00<00:00, 13.11it/s]\n",
      "Processing pages: 100%|██████████| 1/1 [00:00<00:00,  3.98it/s]\n",
      "Processing pages: 100%|██████████| 1/1 [00:00<00:00,  4.91it/s]\n",
      "\u001b[32m2025-06-08 08:08:48.245\u001b[0m | \u001b[1mINFO    \u001b[0m | \u001b[36mmagic_pdf.data.dataset\u001b[0m:\u001b[36m__init__\u001b[0m:\u001b[36m256\u001b[0m - \u001b[1mlang: ch_server\u001b[0m\n",
      "\u001b[32m2025-06-08 08:08:48.293\u001b[0m | \u001b[1mINFO    \u001b[0m | \u001b[36mmagic_pdf.data.dataset\u001b[0m:\u001b[36m__init__\u001b[0m:\u001b[36m256\u001b[0m - \u001b[1mlang: ch_server\u001b[0m\n",
      "\u001b[32m2025-06-08 08:08:48.328\u001b[0m | \u001b[1mINFO    \u001b[0m | \u001b[36mmagic_pdf.data.dataset\u001b[0m:\u001b[36m__init__\u001b[0m:\u001b[36m256\u001b[0m - \u001b[1mlang: ch_server\u001b[0m\n"
     ]
    },
    {
     "name": "stdout",
     "output_type": "stream",
     "text": [
      "{'idx': ['0580_m23_qp_32_1', '0580_m23_qp_32_1_a', '0580_m23_qp_32_1_b_i', '0580_m23_qp_32_1_b_ii', '0580_m23_qp_32_1_c', '0580_m23_qp_32_1_d', '0580_m23_qp_32_1_d_i', '0580_m23_qp_32_1_d_ii'], 'seperator': 'IAM_A_SEPERATOR_PLEASE'}\n"
     ]
    },
    {
     "name": "stderr",
     "output_type": "stream",
     "text": [
      "\u001b[32m2025-06-08 08:08:48.357\u001b[0m | \u001b[1mINFO    \u001b[0m | \u001b[36mmagic_pdf.data.dataset\u001b[0m:\u001b[36m__init__\u001b[0m:\u001b[36m256\u001b[0m - \u001b[1mlang: ch_server\u001b[0m\n",
      "\u001b[32m2025-06-08 08:08:48.391\u001b[0m | \u001b[1mINFO    \u001b[0m | \u001b[36mmagic_pdf.data.dataset\u001b[0m:\u001b[36m__init__\u001b[0m:\u001b[36m256\u001b[0m - \u001b[1mlang: ch_server\u001b[0m\n",
      "\u001b[32m2025-06-08 08:08:48.420\u001b[0m | \u001b[1mINFO    \u001b[0m | \u001b[36mmagic_pdf.data.dataset\u001b[0m:\u001b[36m__init__\u001b[0m:\u001b[36m256\u001b[0m - \u001b[1mlang: ch_server\u001b[0m\n",
      "\u001b[32m2025-06-08 08:08:48.457\u001b[0m | \u001b[1mINFO    \u001b[0m | \u001b[36mmagic_pdf.data.dataset\u001b[0m:\u001b[36m__init__\u001b[0m:\u001b[36m256\u001b[0m - \u001b[1mlang: ch_server\u001b[0m\n",
      "\u001b[32m2025-06-08 08:08:48.513\u001b[0m | \u001b[1mINFO    \u001b[0m | \u001b[36mmagic_pdf.data.dataset\u001b[0m:\u001b[36m__init__\u001b[0m:\u001b[36m256\u001b[0m - \u001b[1mlang: ch_server\u001b[0m\n",
      "\u001b[32m2025-06-08 08:08:49.000\u001b[0m | \u001b[1mINFO    \u001b[0m | \u001b[36mmagic_pdf.model.doc_analyze_by_custom_model\u001b[0m:\u001b[36mbatch_doc_analyze\u001b[0m:\u001b[36m223\u001b[0m - \u001b[1mBatch 1/1: 8 pages/8 pages\u001b[0m\n",
      "\u001b[32m2025-06-08 08:08:49.002\u001b[0m | \u001b[1mINFO    \u001b[0m | \u001b[36mmagic_pdf.model.doc_analyze_by_custom_model\u001b[0m:\u001b[36mmay_batch_image_analyze\u001b[0m:\u001b[36m278\u001b[0m - \u001b[1mgpu_memory: 16 GB, batch_ratio: 16\u001b[0m\n",
      "Layout Predict: 100%|██████████| 8/8 [00:00<00:00, 12.69it/s]\n",
      "MFD Predict: 100%|██████████| 8/8 [00:00<00:00,  9.20it/s]\n",
      "MFR Predict: 100%|██████████| 11/11 [00:00<00:00, 24.40it/s]\n",
      "OCR-det Predict: 100%|██████████| 8/8 [00:00<00:00, 10.32it/s]\n",
      "Table Predict: 100%|██████████| 6/6 [00:01<00:00,  4.37it/s]\n",
      "OCR-rec Predict: 100%|██████████| 51/51 [00:00<00:00, 70.71it/s] \n",
      "Processing pages: 100%|██████████| 1/1 [00:00<00:00,  6.25it/s]\n",
      "Processing pages: 100%|██████████| 1/1 [00:00<00:00,  6.61it/s]\n",
      "Processing pages: 100%|██████████| 1/1 [00:00<00:00, 19.93it/s]\n",
      "Processing pages: 100%|██████████| 1/1 [00:00<00:00, 19.77it/s]\n",
      "Processing pages: 100%|██████████| 1/1 [00:00<00:00, 13.11it/s]\n",
      "Processing pages: 100%|██████████| 1/1 [00:00<00:00, 11.15it/s]\n",
      "Processing pages: 100%|██████████| 1/1 [00:00<00:00,  9.66it/s]\n",
      "Processing pages: 100%|██████████| 1/1 [00:00<00:00,  4.85it/s]\n",
      "\u001b[32m2025-06-08 08:21:36.428\u001b[0m | \u001b[1mINFO    \u001b[0m | \u001b[36mmagic_pdf.data.dataset\u001b[0m:\u001b[36m__init__\u001b[0m:\u001b[36m256\u001b[0m - \u001b[1mlang: ch_server\u001b[0m\n",
      "\u001b[32m2025-06-08 08:21:36.465\u001b[0m | \u001b[1mINFO    \u001b[0m | \u001b[36mmagic_pdf.model.doc_analyze_by_custom_model\u001b[0m:\u001b[36mbatch_doc_analyze\u001b[0m:\u001b[36m223\u001b[0m - \u001b[1mBatch 1/1: 1 pages/1 pages\u001b[0m\n",
      "\u001b[32m2025-06-08 08:21:36.466\u001b[0m | \u001b[1mINFO    \u001b[0m | \u001b[36mmagic_pdf.model.doc_analyze_by_custom_model\u001b[0m:\u001b[36mmay_batch_image_analyze\u001b[0m:\u001b[36m278\u001b[0m - \u001b[1mgpu_memory: 16 GB, batch_ratio: 16\u001b[0m\n"
     ]
    },
    {
     "name": "stdout",
     "output_type": "stream",
     "text": [
      "{'idx': ['0580_m23_qp_32_1_d'], 'seperator': 'IAM_A_SEPERATOR_PLEASE'}\n"
     ]
    },
    {
     "name": "stderr",
     "output_type": "stream",
     "text": [
      "Layout Predict: 100%|██████████| 1/1 [00:00<00:00, 12.61it/s]\n",
      "MFD Predict: 100%|██████████| 1/1 [00:00<00:00, 11.16it/s]\n",
      "MFR Predict: 0it [00:00, ?it/s]\n",
      "OCR-det Predict: 100%|██████████| 1/1 [00:00<00:00, 23.83it/s]\n",
      "Table Predict: 100%|██████████| 1/1 [00:00<00:00,  3.82it/s]\n",
      "OCR-rec Predict: 100%|██████████| 1/1 [00:00<00:00, 19.56it/s]\n",
      "Processing pages: 100%|██████████| 1/1 [00:00<00:00, 11.24it/s]\n",
      "\u001b[32m2025-06-08 08:23:14.447\u001b[0m | \u001b[1mINFO    \u001b[0m | \u001b[36mmagic_pdf.data.dataset\u001b[0m:\u001b[36m__init__\u001b[0m:\u001b[36m256\u001b[0m - \u001b[1mlang: ch_server\u001b[0m\n",
      "\u001b[32m2025-06-08 08:23:14.485\u001b[0m | \u001b[1mINFO    \u001b[0m | \u001b[36mmagic_pdf.model.doc_analyze_by_custom_model\u001b[0m:\u001b[36mbatch_doc_analyze\u001b[0m:\u001b[36m223\u001b[0m - \u001b[1mBatch 1/1: 1 pages/1 pages\u001b[0m\n",
      "\u001b[32m2025-06-08 08:23:14.486\u001b[0m | \u001b[1mINFO    \u001b[0m | \u001b[36mmagic_pdf.model.doc_analyze_by_custom_model\u001b[0m:\u001b[36mmay_batch_image_analyze\u001b[0m:\u001b[36m278\u001b[0m - \u001b[1mgpu_memory: 16 GB, batch_ratio: 16\u001b[0m\n"
     ]
    },
    {
     "name": "stdout",
     "output_type": "stream",
     "text": [
      "{'idx': ['0580_m23_qp_32_1_d'], 'seperator': 'IAM_A_SEPERATOR_PLEASE'}\n"
     ]
    },
    {
     "name": "stderr",
     "output_type": "stream",
     "text": [
      "Layout Predict: 100%|██████████| 1/1 [00:00<00:00, 12.83it/s]\n",
      "MFD Predict: 100%|██████████| 1/1 [00:00<00:00, 11.46it/s]\n",
      "MFR Predict: 0it [00:00, ?it/s]\n",
      "OCR-det Predict: 100%|██████████| 1/1 [00:00<00:00, 24.31it/s]\n",
      "Table Predict: 100%|██████████| 1/1 [00:00<00:00,  3.70it/s]\n",
      "OCR-rec Predict: 100%|██████████| 1/1 [00:00<00:00, 21.64it/s]\n",
      "Processing pages: 100%|██████████| 1/1 [00:00<00:00, 11.83it/s]\n",
      "\u001b[32m2025-06-08 08:23:28.536\u001b[0m | \u001b[1mINFO    \u001b[0m | \u001b[36mmagic_pdf.data.dataset\u001b[0m:\u001b[36m__init__\u001b[0m:\u001b[36m256\u001b[0m - \u001b[1mlang: ch_server\u001b[0m\n",
      "\u001b[32m2025-06-08 08:23:28.573\u001b[0m | \u001b[1mINFO    \u001b[0m | \u001b[36mmagic_pdf.model.doc_analyze_by_custom_model\u001b[0m:\u001b[36mbatch_doc_analyze\u001b[0m:\u001b[36m223\u001b[0m - \u001b[1mBatch 1/1: 1 pages/1 pages\u001b[0m\n",
      "\u001b[32m2025-06-08 08:23:28.575\u001b[0m | \u001b[1mINFO    \u001b[0m | \u001b[36mmagic_pdf.model.doc_analyze_by_custom_model\u001b[0m:\u001b[36mmay_batch_image_analyze\u001b[0m:\u001b[36m278\u001b[0m - \u001b[1mgpu_memory: 16 GB, batch_ratio: 16\u001b[0m\n"
     ]
    },
    {
     "name": "stdout",
     "output_type": "stream",
     "text": [
      "{'idx': ['0580_m23_qp_32_1_d'], 'seperator': 'IAM_A_SEPERATOR_PLEASE'}\n"
     ]
    },
    {
     "name": "stderr",
     "output_type": "stream",
     "text": [
      "Layout Predict: 100%|██████████| 1/1 [00:00<00:00, 13.09it/s]\n",
      "MFD Predict: 100%|██████████| 1/1 [00:00<00:00, 11.96it/s]\n",
      "MFR Predict: 0it [00:00, ?it/s]\n",
      "OCR-det Predict: 100%|██████████| 1/1 [00:00<00:00, 23.46it/s]\n",
      "Table Predict: 100%|██████████| 1/1 [00:00<00:00,  3.82it/s]\n",
      "OCR-rec Predict: 100%|██████████| 1/1 [00:00<00:00, 21.90it/s]\n",
      "Processing pages: 100%|██████████| 1/1 [00:00<00:00, 11.80it/s]\n",
      "\u001b[32m2025-06-08 08:34:12.602\u001b[0m | \u001b[1mINFO    \u001b[0m | \u001b[36mmagic_pdf.data.dataset\u001b[0m:\u001b[36m__init__\u001b[0m:\u001b[36m256\u001b[0m - \u001b[1mlang: ch_server\u001b[0m\n",
      "\u001b[32m2025-06-08 08:34:12.643\u001b[0m | \u001b[1mINFO    \u001b[0m | \u001b[36mmagic_pdf.data.dataset\u001b[0m:\u001b[36m__init__\u001b[0m:\u001b[36m256\u001b[0m - \u001b[1mlang: ch_server\u001b[0m\n",
      "\u001b[32m2025-06-08 08:34:12.747\u001b[0m | \u001b[1mINFO    \u001b[0m | \u001b[36mmagic_pdf.model.doc_analyze_by_custom_model\u001b[0m:\u001b[36mbatch_doc_analyze\u001b[0m:\u001b[36m223\u001b[0m - \u001b[1mBatch 1/1: 2 pages/2 pages\u001b[0m\n",
      "\u001b[32m2025-06-08 08:34:12.748\u001b[0m | \u001b[1mINFO    \u001b[0m | \u001b[36mmagic_pdf.model.doc_analyze_by_custom_model\u001b[0m:\u001b[36mmay_batch_image_analyze\u001b[0m:\u001b[36m278\u001b[0m - \u001b[1mgpu_memory: 16 GB, batch_ratio: 16\u001b[0m\n"
     ]
    },
    {
     "name": "stdout",
     "output_type": "stream",
     "text": [
      "{'idx': ['0580_m23_qp_32_2_a', '0580_m23_qp_32_2_b'], 'seperator': 'IAM_A_SEPERATOR_PLEASE'}\n"
     ]
    },
    {
     "name": "stderr",
     "output_type": "stream",
     "text": [
      "Layout Predict: 100%|██████████| 2/2 [00:00<00:00, 12.43it/s]\n",
      "MFD Predict: 100%|██████████| 2/2 [00:00<00:00,  9.09it/s]\n",
      "MFR Predict: 0it [00:00, ?it/s]\n",
      "OCR-det Predict: 100%|██████████| 2/2 [00:00<00:00, 20.08it/s]\n",
      "Table Predict: 100%|██████████| 2/2 [00:00<00:00,  3.56it/s]\n",
      "OCR-rec Predict: 100%|██████████| 4/4 [00:00<00:00, 46.53it/s]\n",
      "Processing pages: 100%|██████████| 1/1 [00:00<00:00, 10.83it/s]\n",
      "Processing pages: 100%|██████████| 1/1 [00:00<00:00, 11.07it/s]\n",
      "\u001b[32m2025-06-08 08:38:05.821\u001b[0m | \u001b[1mINFO    \u001b[0m | \u001b[36mmagic_pdf.data.dataset\u001b[0m:\u001b[36m__init__\u001b[0m:\u001b[36m256\u001b[0m - \u001b[1mlang: ch_server\u001b[0m\n",
      "\u001b[32m2025-06-08 08:38:06.030\u001b[0m | \u001b[1mINFO    \u001b[0m | \u001b[36mmagic_pdf.model.doc_analyze_by_custom_model\u001b[0m:\u001b[36mbatch_doc_analyze\u001b[0m:\u001b[36m223\u001b[0m - \u001b[1mBatch 1/1: 1 pages/1 pages\u001b[0m\n"
     ]
    },
    {
     "name": "stdout",
     "output_type": "stream",
     "text": [
      "{'idx': ['0580_m23_qp_32_1_d'], 'seperator': 'IAM_A_SEPERATOR_PLEASE'}\n"
     ]
    },
    {
     "name": "stderr",
     "output_type": "stream",
     "text": [
      "\u001b[32m2025-06-08 08:38:06.032\u001b[0m | \u001b[1mINFO    \u001b[0m | \u001b[36mmagic_pdf.model.doc_analyze_by_custom_model\u001b[0m:\u001b[36mmay_batch_image_analyze\u001b[0m:\u001b[36m278\u001b[0m - \u001b[1mgpu_memory: 16 GB, batch_ratio: 16\u001b[0m\n",
      "Layout Predict: 100%|██████████| 1/1 [00:00<00:00, 12.73it/s]\n",
      "MFD Predict: 100%|██████████| 1/1 [00:00<00:00, 11.50it/s]\n",
      "MFR Predict: 0it [00:00, ?it/s]\n",
      "OCR-det Predict: 100%|██████████| 1/1 [00:00<00:00, 22.89it/s]\n",
      "Table Predict: 100%|██████████| 1/1 [00:00<00:00,  3.49it/s]\n",
      "OCR-rec Predict: 100%|██████████| 1/1 [00:00<00:00, 20.34it/s]\n",
      "Processing pages: 100%|██████████| 1/1 [00:00<00:00,  5.35it/s]\n",
      "\u001b[32m2025-06-08 08:39:09.415\u001b[0m | \u001b[1mINFO    \u001b[0m | \u001b[36mmagic_pdf.data.dataset\u001b[0m:\u001b[36m__init__\u001b[0m:\u001b[36m256\u001b[0m - \u001b[1mlang: ch_server\u001b[0m\n",
      "\u001b[32m2025-06-08 08:39:09.639\u001b[0m | \u001b[1mINFO    \u001b[0m | \u001b[36mmagic_pdf.model.doc_analyze_by_custom_model\u001b[0m:\u001b[36mbatch_doc_analyze\u001b[0m:\u001b[36m223\u001b[0m - \u001b[1mBatch 1/1: 1 pages/1 pages\u001b[0m\n"
     ]
    },
    {
     "name": "stdout",
     "output_type": "stream",
     "text": [
      "{'idx': ['0580_m23_qp_32_1_d'], 'seperator': 'IAM_A_SEPERATOR_PLEASE'}\n"
     ]
    },
    {
     "name": "stderr",
     "output_type": "stream",
     "text": [
      "\u001b[32m2025-06-08 08:39:09.640\u001b[0m | \u001b[1mINFO    \u001b[0m | \u001b[36mmagic_pdf.model.doc_analyze_by_custom_model\u001b[0m:\u001b[36mmay_batch_image_analyze\u001b[0m:\u001b[36m278\u001b[0m - \u001b[1mgpu_memory: 16 GB, batch_ratio: 16\u001b[0m\n",
      "Layout Predict: 100%|██████████| 1/1 [00:00<00:00, 12.82it/s]\n",
      "MFD Predict: 100%|██████████| 1/1 [00:00<00:00, 11.77it/s]\n",
      "MFR Predict: 0it [00:00, ?it/s]\n",
      "OCR-det Predict: 100%|██████████| 1/1 [00:00<00:00, 24.18it/s]\n",
      "Table Predict: 100%|██████████| 1/1 [00:00<00:00,  3.49it/s]\n",
      "OCR-rec Predict: 100%|██████████| 1/1 [00:00<00:00, 21.19it/s]\n",
      "Processing pages: 100%|██████████| 1/1 [00:00<00:00,  5.19it/s]\n",
      "\u001b[32m2025-06-08 08:39:22.785\u001b[0m | \u001b[1mINFO    \u001b[0m | \u001b[36mmagic_pdf.data.dataset\u001b[0m:\u001b[36m__init__\u001b[0m:\u001b[36m256\u001b[0m - \u001b[1mlang: ch_server\u001b[0m\n"
     ]
    },
    {
     "name": "stdout",
     "output_type": "stream",
     "text": [
      "{'idx': ['0580_m23_qp_32_1_d'], 'seperator': 'IAM_A_SEPERATOR_PLEASE'}\n"
     ]
    },
    {
     "name": "stderr",
     "output_type": "stream",
     "text": [
      "\u001b[32m2025-06-08 08:39:23.010\u001b[0m | \u001b[1mINFO    \u001b[0m | \u001b[36mmagic_pdf.model.doc_analyze_by_custom_model\u001b[0m:\u001b[36mbatch_doc_analyze\u001b[0m:\u001b[36m223\u001b[0m - \u001b[1mBatch 1/1: 1 pages/1 pages\u001b[0m\n",
      "\u001b[32m2025-06-08 08:39:23.012\u001b[0m | \u001b[1mINFO    \u001b[0m | \u001b[36mmagic_pdf.model.doc_analyze_by_custom_model\u001b[0m:\u001b[36mmay_batch_image_analyze\u001b[0m:\u001b[36m278\u001b[0m - \u001b[1mgpu_memory: 16 GB, batch_ratio: 16\u001b[0m\n",
      "Layout Predict: 100%|██████████| 1/1 [00:00<00:00, 13.54it/s]\n",
      "MFD Predict: 100%|██████████| 1/1 [00:00<00:00, 12.21it/s]\n",
      "MFR Predict: 0it [00:00, ?it/s]\n",
      "OCR-det Predict: 100%|██████████| 1/1 [00:00<00:00, 24.17it/s]\n",
      "Table Predict: 100%|██████████| 1/1 [00:00<00:00,  3.55it/s]\n",
      "OCR-rec Predict: 100%|██████████| 1/1 [00:00<00:00, 21.14it/s]\n",
      "Processing pages: 100%|██████████| 1/1 [00:00<00:00,  5.15it/s]\n",
      "\u001b[32m2025-06-08 08:42:32.032\u001b[0m | \u001b[1mINFO    \u001b[0m | \u001b[36mmagic_pdf.data.dataset\u001b[0m:\u001b[36m__init__\u001b[0m:\u001b[36m256\u001b[0m - \u001b[1mlang: ch_server\u001b[0m\n",
      "\u001b[32m2025-06-08 08:42:32.064\u001b[0m | \u001b[1mINFO    \u001b[0m | \u001b[36mmagic_pdf.data.dataset\u001b[0m:\u001b[36m__init__\u001b[0m:\u001b[36m256\u001b[0m - \u001b[1mlang: ch_server\u001b[0m\n",
      "\u001b[32m2025-06-08 08:42:32.091\u001b[0m | \u001b[1mINFO    \u001b[0m | \u001b[36mmagic_pdf.data.dataset\u001b[0m:\u001b[36m__init__\u001b[0m:\u001b[36m256\u001b[0m - \u001b[1mlang: ch_server\u001b[0m\n",
      "\u001b[32m2025-06-08 08:42:32.132\u001b[0m | \u001b[1mINFO    \u001b[0m | \u001b[36mmagic_pdf.data.dataset\u001b[0m:\u001b[36m__init__\u001b[0m:\u001b[36m256\u001b[0m - \u001b[1mlang: ch_server\u001b[0m\n",
      "\u001b[32m2025-06-08 08:42:32.163\u001b[0m | \u001b[1mINFO    \u001b[0m | \u001b[36mmagic_pdf.data.dataset\u001b[0m:\u001b[36m__init__\u001b[0m:\u001b[36m256\u001b[0m - \u001b[1mlang: ch_server\u001b[0m\n",
      "\u001b[32m2025-06-08 08:42:32.202\u001b[0m | \u001b[1mINFO    \u001b[0m | \u001b[36mmagic_pdf.data.dataset\u001b[0m:\u001b[36m__init__\u001b[0m:\u001b[36m256\u001b[0m - \u001b[1mlang: ch_server\u001b[0m\n"
     ]
    },
    {
     "name": "stdout",
     "output_type": "stream",
     "text": [
      "{'idx': ['0580_m23_qp_32_1_a', '0580_m23_qp_32_1_b_i', '0580_m23_qp_32_1_b_ii', '0580_m23_qp_32_1_c', '0580_m23_qp_32_1_d', '0580_m23_qp_32_1_d_i', '0580_m23_qp_32_1_d_ii'], 'seperator': 'IAM_A_SEPERATOR_PLEASE'}\n"
     ]
    },
    {
     "name": "stderr",
     "output_type": "stream",
     "text": [
      "\u001b[32m2025-06-08 08:42:32.265\u001b[0m | \u001b[1mINFO    \u001b[0m | \u001b[36mmagic_pdf.data.dataset\u001b[0m:\u001b[36m__init__\u001b[0m:\u001b[36m256\u001b[0m - \u001b[1mlang: ch_server\u001b[0m\n",
      "\u001b[32m2025-06-08 08:42:32.626\u001b[0m | \u001b[1mINFO    \u001b[0m | \u001b[36mmagic_pdf.model.doc_analyze_by_custom_model\u001b[0m:\u001b[36mbatch_doc_analyze\u001b[0m:\u001b[36m223\u001b[0m - \u001b[1mBatch 1/1: 7 pages/7 pages\u001b[0m\n",
      "\u001b[32m2025-06-08 08:42:32.627\u001b[0m | \u001b[1mINFO    \u001b[0m | \u001b[36mmagic_pdf.model.doc_analyze_by_custom_model\u001b[0m:\u001b[36mmay_batch_image_analyze\u001b[0m:\u001b[36m278\u001b[0m - \u001b[1mgpu_memory: 16 GB, batch_ratio: 16\u001b[0m\n",
      "Layout Predict: 100%|██████████| 7/7 [00:00<00:00, 12.96it/s]\n",
      "MFD Predict: 100%|██████████| 7/7 [00:00<00:00,  9.86it/s]\n",
      "MFR Predict: 100%|██████████| 9/9 [00:00<00:00, 20.16it/s]\n",
      "OCR-det Predict: 100%|██████████| 7/7 [00:00<00:00, 11.24it/s]\n",
      "Table Predict: 100%|██████████| 4/4 [00:00<00:00,  4.43it/s]\n",
      "OCR-rec Predict: 100%|██████████| 31/31 [00:00<00:00, 74.42it/s] \n",
      "Processing pages: 100%|██████████| 1/1 [00:00<00:00,  7.08it/s]\n",
      "Processing pages: 100%|██████████| 1/1 [00:00<00:00, 18.80it/s]\n",
      "Processing pages: 100%|██████████| 1/1 [00:00<00:00, 19.60it/s]\n",
      "Processing pages: 100%|██████████| 1/1 [00:00<00:00, 13.42it/s]\n",
      "Processing pages: 100%|██████████| 1/1 [00:00<00:00, 10.63it/s]\n",
      "Processing pages: 100%|██████████| 1/1 [00:00<00:00,  9.32it/s]\n",
      "Processing pages: 100%|██████████| 1/1 [00:00<00:00,  4.40it/s]\n",
      "\u001b[32m2025-06-08 08:45:49.862\u001b[0m | \u001b[1mINFO    \u001b[0m | \u001b[36mmagic_pdf.data.dataset\u001b[0m:\u001b[36m__init__\u001b[0m:\u001b[36m256\u001b[0m - \u001b[1mlang: ch_server\u001b[0m\n",
      "\u001b[32m2025-06-08 08:45:49.987\u001b[0m | \u001b[1mINFO    \u001b[0m | \u001b[36mmagic_pdf.data.dataset\u001b[0m:\u001b[36m__init__\u001b[0m:\u001b[36m256\u001b[0m - \u001b[1mlang: ch_server\u001b[0m\n"
     ]
    },
    {
     "name": "stdout",
     "output_type": "stream",
     "text": [
      "{'idx': ['0580_m23_qp_32_1_a', '0580_m23_qp_32_1_b_i', '0580_m23_qp_32_1_b_ii', '0580_m23_qp_32_1_c', '0580_m23_qp_32_1_d', '0580_m23_qp_32_1_d_i', '0580_m23_qp_32_1_d_ii'], 'seperator': 'IAM_A_SEPERATOR_PLEASE'}\n"
     ]
    },
    {
     "name": "stderr",
     "output_type": "stream",
     "text": [
      "\u001b[32m2025-06-08 08:45:50.095\u001b[0m | \u001b[1mINFO    \u001b[0m | \u001b[36mmagic_pdf.data.dataset\u001b[0m:\u001b[36m__init__\u001b[0m:\u001b[36m256\u001b[0m - \u001b[1mlang: ch_server\u001b[0m\n",
      "\u001b[32m2025-06-08 08:45:50.222\u001b[0m | \u001b[1mINFO    \u001b[0m | \u001b[36mmagic_pdf.data.dataset\u001b[0m:\u001b[36m__init__\u001b[0m:\u001b[36m256\u001b[0m - \u001b[1mlang: ch_server\u001b[0m\n",
      "\u001b[32m2025-06-08 08:45:50.327\u001b[0m | \u001b[1mINFO    \u001b[0m | \u001b[36mmagic_pdf.data.dataset\u001b[0m:\u001b[36m__init__\u001b[0m:\u001b[36m256\u001b[0m - \u001b[1mlang: ch_server\u001b[0m\n",
      "\u001b[32m2025-06-08 08:45:50.466\u001b[0m | \u001b[1mINFO    \u001b[0m | \u001b[36mmagic_pdf.data.dataset\u001b[0m:\u001b[36m__init__\u001b[0m:\u001b[36m256\u001b[0m - \u001b[1mlang: ch_server\u001b[0m\n",
      "\u001b[32m2025-06-08 08:45:50.687\u001b[0m | \u001b[1mINFO    \u001b[0m | \u001b[36mmagic_pdf.data.dataset\u001b[0m:\u001b[36m__init__\u001b[0m:\u001b[36m256\u001b[0m - \u001b[1mlang: ch_server\u001b[0m\n",
      "\u001b[32m2025-06-08 08:45:52.958\u001b[0m | \u001b[1mINFO    \u001b[0m | \u001b[36mmagic_pdf.model.doc_analyze_by_custom_model\u001b[0m:\u001b[36mbatch_doc_analyze\u001b[0m:\u001b[36m223\u001b[0m - \u001b[1mBatch 1/1: 7 pages/7 pages\u001b[0m\n",
      "\u001b[32m2025-06-08 08:45:52.960\u001b[0m | \u001b[1mINFO    \u001b[0m | \u001b[36mmagic_pdf.model.doc_analyze_by_custom_model\u001b[0m:\u001b[36mmay_batch_image_analyze\u001b[0m:\u001b[36m278\u001b[0m - \u001b[1mgpu_memory: 16 GB, batch_ratio: 16\u001b[0m\n",
      "Layout Predict: 100%|██████████| 7/7 [00:00<00:00, 13.25it/s]\n",
      "MFD Predict: 100%|██████████| 7/7 [00:00<00:00,  9.67it/s]\n",
      "MFR Predict: 100%|██████████| 6/6 [00:00<00:00, 16.30it/s]\n",
      "OCR-det Predict: 100%|██████████| 7/7 [00:00<00:00, 12.43it/s]\n",
      "Table Predict: 100%|██████████| 4/4 [00:01<00:00,  3.88it/s]\n",
      "OCR-rec Predict: 100%|██████████| 30/30 [00:00<00:00, 77.57it/s] \n",
      "Processing pages: 100%|██████████| 1/1 [00:00<00:00,  2.58it/s]\n",
      "Processing pages: 100%|██████████| 1/1 [00:00<00:00, 19.74it/s]\n",
      "Processing pages: 100%|██████████| 1/1 [00:00<00:00, 19.79it/s]\n",
      "Processing pages: 100%|██████████| 1/1 [00:00<00:00,  7.38it/s]\n",
      "Processing pages: 100%|██████████| 1/1 [00:00<00:00,  5.40it/s]\n",
      "Processing pages: 100%|██████████| 1/1 [00:00<00:00,  4.14it/s]\n",
      "Processing pages: 100%|██████████| 1/1 [00:00<00:00,  1.61it/s]\n",
      "\u001b[32m2025-06-08 08:58:17.693\u001b[0m | \u001b[1mINFO    \u001b[0m | \u001b[36mmagic_pdf.data.dataset\u001b[0m:\u001b[36m__init__\u001b[0m:\u001b[36m256\u001b[0m - \u001b[1mlang: ch_server\u001b[0m\n",
      "\u001b[32m2025-06-08 08:58:17.745\u001b[0m | \u001b[1mINFO    \u001b[0m | \u001b[36mmagic_pdf.data.dataset\u001b[0m:\u001b[36m__init__\u001b[0m:\u001b[36m256\u001b[0m - \u001b[1mlang: ch_server\u001b[0m\n",
      "\u001b[32m2025-06-08 08:58:17.790\u001b[0m | \u001b[1mINFO    \u001b[0m | \u001b[36mmagic_pdf.data.dataset\u001b[0m:\u001b[36m__init__\u001b[0m:\u001b[36m256\u001b[0m - \u001b[1mlang: ch_server\u001b[0m\n",
      "\u001b[32m2025-06-08 08:58:17.834\u001b[0m | \u001b[1mINFO    \u001b[0m | \u001b[36mmagic_pdf.data.dataset\u001b[0m:\u001b[36m__init__\u001b[0m:\u001b[36m256\u001b[0m - \u001b[1mlang: ch_server\u001b[0m\n",
      "\u001b[32m2025-06-08 08:58:17.871\u001b[0m | \u001b[1mINFO    \u001b[0m | \u001b[36mmagic_pdf.data.dataset\u001b[0m:\u001b[36m__init__\u001b[0m:\u001b[36m256\u001b[0m - \u001b[1mlang: ch_server\u001b[0m\n"
     ]
    },
    {
     "name": "stdout",
     "output_type": "stream",
     "text": [
      "{'idx': ['0580_m23_qp_32_1_a', '0580_m23_qp_32_1_b_i', '0580_m23_qp_32_1_b_ii', '0580_m23_qp_32_1_c', '0580_m23_qp_32_1_d', '0580_m23_qp_32_1_d_i', '0580_m23_qp_32_1_d_ii'], 'seperator': 'IAM_A_SEPERATOR_PLEASE'}\n"
     ]
    },
    {
     "name": "stderr",
     "output_type": "stream",
     "text": [
      "\u001b[32m2025-06-08 08:58:17.917\u001b[0m | \u001b[1mINFO    \u001b[0m | \u001b[36mmagic_pdf.data.dataset\u001b[0m:\u001b[36m__init__\u001b[0m:\u001b[36m256\u001b[0m - \u001b[1mlang: ch_server\u001b[0m\n",
      "\u001b[32m2025-06-08 08:58:17.984\u001b[0m | \u001b[1mINFO    \u001b[0m | \u001b[36mmagic_pdf.data.dataset\u001b[0m:\u001b[36m__init__\u001b[0m:\u001b[36m256\u001b[0m - \u001b[1mlang: ch_server\u001b[0m\n",
      "\u001b[32m2025-06-08 08:58:18.430\u001b[0m | \u001b[1mINFO    \u001b[0m | \u001b[36mmagic_pdf.model.doc_analyze_by_custom_model\u001b[0m:\u001b[36mbatch_doc_analyze\u001b[0m:\u001b[36m223\u001b[0m - \u001b[1mBatch 1/1: 7 pages/7 pages\u001b[0m\n",
      "\u001b[32m2025-06-08 08:58:18.431\u001b[0m | \u001b[1mINFO    \u001b[0m | \u001b[36mmagic_pdf.model.doc_analyze_by_custom_model\u001b[0m:\u001b[36mmay_batch_image_analyze\u001b[0m:\u001b[36m278\u001b[0m - \u001b[1mgpu_memory: 16 GB, batch_ratio: 16\u001b[0m\n",
      "Layout Predict: 100%|██████████| 7/7 [00:00<00:00, 11.97it/s]\n",
      "MFD Predict: 100%|██████████| 7/7 [00:00<00:00,  7.67it/s]\n",
      "MFR Predict: 100%|██████████| 11/11 [00:00<00:00, 24.05it/s]\n",
      "OCR-det Predict: 100%|██████████| 7/7 [00:00<00:00, 11.65it/s]\n",
      "Table Predict: 100%|██████████| 4/4 [00:00<00:00,  4.56it/s]\n",
      "OCR-rec Predict: 100%|██████████| 28/28 [00:00<00:00, 78.33it/s] \n",
      "Processing pages: 100%|██████████| 1/1 [00:00<00:00,  7.47it/s]\n",
      "Processing pages: 100%|██████████| 1/1 [00:00<00:00, 19.63it/s]\n",
      "Processing pages: 100%|██████████| 1/1 [00:00<00:00, 20.29it/s]\n",
      "Processing pages: 100%|██████████| 1/1 [00:00<00:00, 13.86it/s]\n",
      "Processing pages: 100%|██████████| 1/1 [00:00<00:00, 10.99it/s]\n",
      "Processing pages: 100%|██████████| 1/1 [00:00<00:00,  9.25it/s]\n",
      "Processing pages: 100%|██████████| 1/1 [00:00<00:00,  4.90it/s]\n",
      "\u001b[32m2025-06-08 08:59:32.137\u001b[0m | \u001b[1mINFO    \u001b[0m | \u001b[36mmagic_pdf.data.dataset\u001b[0m:\u001b[36m__init__\u001b[0m:\u001b[36m256\u001b[0m - \u001b[1mlang: ch_server\u001b[0m\n",
      "\u001b[32m2025-06-08 08:59:32.142\u001b[0m | \u001b[1mINFO    \u001b[0m | \u001b[36mmagic_pdf.data.dataset\u001b[0m:\u001b[36m__init__\u001b[0m:\u001b[36m256\u001b[0m - \u001b[1mlang: ch_server\u001b[0m\n",
      "\u001b[32m2025-06-08 08:59:32.156\u001b[0m | \u001b[1mINFO    \u001b[0m | \u001b[36mmagic_pdf.data.dataset\u001b[0m:\u001b[36m__init__\u001b[0m:\u001b[36m256\u001b[0m - \u001b[1mlang: ch_server\u001b[0m\n",
      "\u001b[32m2025-06-08 08:59:32.164\u001b[0m | \u001b[1mINFO    \u001b[0m | \u001b[36mmagic_pdf.data.dataset\u001b[0m:\u001b[36m__init__\u001b[0m:\u001b[36m256\u001b[0m - \u001b[1mlang: ch_server\u001b[0m\n",
      "\u001b[32m2025-06-08 08:59:32.175\u001b[0m | \u001b[1mINFO    \u001b[0m | \u001b[36mmagic_pdf.data.dataset\u001b[0m:\u001b[36m__init__\u001b[0m:\u001b[36m256\u001b[0m - \u001b[1mlang: ch_server\u001b[0m\n",
      "\u001b[32m2025-06-08 08:59:32.180\u001b[0m | \u001b[1mINFO    \u001b[0m | \u001b[36mmagic_pdf.data.dataset\u001b[0m:\u001b[36m__init__\u001b[0m:\u001b[36m256\u001b[0m - \u001b[1mlang: ch_server\u001b[0m\n",
      "\u001b[32m2025-06-08 08:59:32.188\u001b[0m | \u001b[1mINFO    \u001b[0m | \u001b[36mmagic_pdf.data.dataset\u001b[0m:\u001b[36m__init__\u001b[0m:\u001b[36m256\u001b[0m - \u001b[1mlang: ch_server\u001b[0m\n",
      "\u001b[32m2025-06-08 08:59:32.193\u001b[0m | \u001b[1mINFO    \u001b[0m | \u001b[36mmagic_pdf.data.dataset\u001b[0m:\u001b[36m__init__\u001b[0m:\u001b[36m256\u001b[0m - \u001b[1mlang: ch_server\u001b[0m\n",
      "\u001b[32m2025-06-08 08:59:32.202\u001b[0m | \u001b[1mINFO    \u001b[0m | \u001b[36mmagic_pdf.data.dataset\u001b[0m:\u001b[36m__init__\u001b[0m:\u001b[36m256\u001b[0m - \u001b[1mlang: ch_server\u001b[0m\n",
      "\u001b[32m2025-06-08 08:59:32.287\u001b[0m | \u001b[1mINFO    \u001b[0m | \u001b[36mmagic_pdf.model.doc_analyze_by_custom_model\u001b[0m:\u001b[36mbatch_doc_analyze\u001b[0m:\u001b[36m223\u001b[0m - \u001b[1mBatch 1/1: 9 pages/9 pages\u001b[0m\n",
      "\u001b[32m2025-06-08 08:59:32.289\u001b[0m | \u001b[1mINFO    \u001b[0m | \u001b[36mmagic_pdf.model.doc_analyze_by_custom_model\u001b[0m:\u001b[36mmay_batch_image_analyze\u001b[0m:\u001b[36m278\u001b[0m - \u001b[1mgpu_memory: 16 GB, batch_ratio: 16\u001b[0m\n"
     ]
    },
    {
     "name": "stdout",
     "output_type": "stream",
     "text": [
      "{'idx': ['0580_m23_qp_32_2_a', '0580_m23_qp_32_2_a_i', '0580_m23_qp_32_2_a_ii', '0580_m23_qp_32_2_a_iii', '0580_m23_qp_32_2_b', '0580_m23_qp_32_2_b_i', '0580_m23_qp_32_2_b_ii', '0580_m23_qp_32_2_b_iii', '0580_m23_qp_32_2_b_iv'], 'seperator': 'IAM_A_SEPERATOR_PLEASE'}\n"
     ]
    },
    {
     "name": "stderr",
     "output_type": "stream",
     "text": [
      "Layout Predict: 100%|██████████| 9/9 [00:00<00:00, 13.58it/s]\n",
      "MFD Predict: 100%|██████████| 9/9 [00:00<00:00, 12.52it/s]\n",
      "MFR Predict: 0it [00:00, ?it/s]\n",
      "OCR-det Predict: 100%|██████████| 9/9 [00:00<00:00, 14.81it/s]\n",
      "Table Predict: 100%|██████████| 2/2 [00:00<00:00,  3.92it/s]\n",
      "OCR-rec Predict: 100%|██████████| 38/38 [00:00<00:00, 82.29it/s] \n",
      "Processing pages: 100%|██████████| 1/1 [00:00<00:00, 15.89it/s]\n",
      "Processing pages: 100%|██████████| 1/1 [00:00<00:00, 20.31it/s]\n",
      "Processing pages: 100%|██████████| 1/1 [00:00<00:00, 12.11it/s]\n",
      "Processing pages: 100%|██████████| 1/1 [00:00<00:00, 19.90it/s]\n",
      "Processing pages: 100%|██████████| 1/1 [00:00<00:00, 15.28it/s]\n",
      "Processing pages: 100%|██████████| 1/1 [00:00<00:00, 18.43it/s]\n",
      "Processing pages: 100%|██████████| 1/1 [00:00<00:00, 18.39it/s]\n",
      "Processing pages: 100%|██████████| 1/1 [00:00<00:00, 18.50it/s]\n",
      "Processing pages: 100%|██████████| 1/1 [00:00<00:00, 18.43it/s]\n"
     ]
    }
   ],
   "source": [
    "!rm $(ls ./ ) -r\n",
    "\n",
    "\n",
    "import os\n",
    "from os.path import sep\n",
    "import fitz\n",
    "from PIL import Image\n",
    "from flask import Flask, request, jsonify ,send_file,Response\n",
    "from zipfile import ZipFile\n",
    "import json\n",
    "from io import  BytesIO\n",
    "from pyngrok import ngrok\n",
    "import traceback\n",
    "from kaggle_secrets import UserSecretsClient\n",
    "\n",
    "from magic_pdf.data.data_reader_writer import (\n",
    "    FileBasedDataWriter,\n",
    ")\n",
    "from magic_pdf.data.dataset import ImageDataset\n",
    "from magic_pdf.model.doc_analyze_by_custom_model import doc_analyze,batch_doc_analyze\n",
    "from magic_pdf.operators.models import InferenceResult, PipeResult\n",
    "\n",
    "\n",
    "# --- 1. SETUP THE TUNNEL ---\n",
    "# Authenticate ngrok using the secret you stored\n",
    "user_secrets = UserSecretsClient()\n",
    "ngrok.set_auth_token(user_secrets.get_secret(\"NGROK_AUTH_TOKEN\"))\n",
    "\n",
    "# Open a tunnel to the Flask app port (we'll use 5000)\n",
    "public_url = ngrok.connect(5000)\n",
    "print(f\"✅ Kaggle is now live at: {public_url}\")\n",
    "\n",
    "\n",
    "# --- 2. LOAD YOUR HEAVY MODEL (DO THIS ONLY ONCE) ---\n",
    "# This is where you would load your model, weights, etc.\n",
    "# Example:\n",
    "# from your_module import load_model, predict_function\n",
    "# model = load_model('/kaggle/input/my-repo-name/models/best_model.pth')\n",
    "print(\"✅ Model loaded successfully (this is a placeholder).\")\n",
    "\n",
    "def detect_layout_miner_u_online(img_bytes: bytes, data: dict):\n",
    "\n",
    "\n",
    "    exam = data.get(\"exam\", \"\")\n",
    "    d_mode = data.get(\"display-mode\", \"\")\n",
    "    nr = \"nr\" + str(data.get(\"number\", 0)) + \"_\"\n",
    "    want = data.get(\"want\", \"md_content.md\")\n",
    "\n",
    "    key = exam + d_mode\n",
    "    f_dir = sep.join([\".\",\"results\",key])\n",
    "    os.makedirs(f_dir, exist_ok=True)\n",
    "    f_path = f\"{f_dir}{sep}{nr}{want}\"\n",
    "\n",
    "    md_image_dir  = f\"{f_dir}{sep}{nr}images\"\n",
    "    if not os.path.exists(f_path):\n",
    "        print(\"ocring ....\")\n",
    "        image_dir = str(os.path.basename(md_image_dir))\n",
    "\n",
    "        os.makedirs(md_image_dir, exist_ok=True)\n",
    "\n",
    "        image_writer, md_writer = FileBasedDataWriter(\n",
    "            md_image_dir\n",
    "        ), FileBasedDataWriter(f_dir)\n",
    "\n",
    "        lang = \"ch_server\"\n",
    "        ds = ImageDataset(img_bytes, lang=lang)\n",
    "\n",
    "        inf_res: InferenceResult = ds.apply(\n",
    "            doc_analyze,\n",
    "            ocr=True,\n",
    "            lang=lang,\n",
    "            show_log=True,\n",
    "        )\n",
    "\n",
    "        p5 = f\"{f_dir}{sep}{nr}draw5.png\"\n",
    "        inf_res.draw_model(p5)\n",
    "        pdf_to_png(p5)\n",
    "\n",
    "        pip_res: PipeResult = inf_res.pipe_ocr_mode(image_writer, lang=lang)\n",
    "\n",
    "\n",
    "        pip_res.dump_md(md_writer, f\"{nr}md_content.md\", image_dir)\n",
    "\n",
    "        p2 = f\"{f_dir}{sep}{nr}draw2.png\"\n",
    "        pip_res.draw_layout(p2)\n",
    "        pdf_to_png(p2)\n",
    "\n",
    "        p3 = f\"{f_dir}{sep}{nr}draw3.png\"\n",
    "        pip_res.draw_span(p3)\n",
    "        pdf_to_png(p3)\n",
    "\n",
    "        p4 = f\"{f_dir}{sep}{nr}draw4.png\"\n",
    "        pip_res.draw_line_sort(p4)\n",
    "        pdf_to_png(p4)\n",
    "    else:\n",
    "        print(\"using cached version\")\n",
    "\n",
    "    if want != \"md_content.md\":\n",
    "        return send_file(f_path, as_attachment=True)\n",
    "\n",
    "    file_paths = [f\"{md_image_dir}{sep}{f}\" for f in os.listdir(md_image_dir)]\n",
    "    file_paths.append(f_path)\n",
    "    memory_file = BytesIO()\n",
    "    with ZipFile(memory_file, 'w') as zf:\n",
    "        for file_path in file_paths:\n",
    "            zf.write(file_path, os.path.basename(file_path))\n",
    "    memory_file.seek(0)\n",
    "    return Response(memory_file.getvalue(), mimetype='application/zip',\n",
    "                     headers={'Content-Disposition': f'attachment;filename=md_content.zip'}\n",
    "                    )\n",
    "\n",
    "\n",
    "def pdf_to_png(pdf_path):\n",
    "\n",
    "    dpi = 150\n",
    "    doc = fitz.open(pdf_path)\n",
    "    page = doc.load_page(0)\n",
    "    pix = page.get_pixmap(dpi=dpi)\n",
    "    mode = \"RGBA\" if pix.alpha else \"RGB\"\n",
    "    img = Image.frombytes(mode, (pix.width, pix.height), pix.samples)\n",
    "    doc.close()\n",
    "    img.save(pdf_path, \"png\")\n",
    "\n",
    "\n",
    "\n",
    "# --- 3. CREATE THE FLASK APP ---\n",
    "app = Flask(__name__)\n",
    "@app.route(\"/\", methods=[\"GET\"])\n",
    "def say_hallo():\n",
    "    return jsonify({\"message\":\"hallo zakir\"})\n",
    "    \n",
    "\n",
    "@app.route(\"/predict\", methods=[\"POST\"])\n",
    "def predict():\n",
    "    \"\"\"The main endpoint for your GUI to call.\"\"\"\n",
    "    try:\n",
    "        image_file = request.files['image']\n",
    "        image_bytes = image_file.read()\n",
    "        print(request.form)\n",
    "        return  detect_layout_miner_u_online(image_bytes,request.form)\n",
    "\n",
    "\n",
    "    except Exception as e:\n",
    "        print(traceback.format_exc())\n",
    "        print(f\"Error: {e}\")\n",
    "        return jsonify({\"error\": str(e)}), 500\n",
    "\n",
    "@app.route(\"/predict/advance\", methods=[\"POST\"])\n",
    "def predict_advance():\n",
    "    \"\"\"The main endpoint for your GUI to call.\"\"\"\n",
    "    try:\n",
    "        image_file = request.files['image']\n",
    "        image_group_bytes :bytes = image_file.read()\n",
    "        fo = request.form\n",
    "        fo = json.loads(fo.get(\"json\"))\n",
    "        print(fo)\n",
    "        sep = fo.get(\"seperator\").encode(\"latin\")\n",
    "        idx = fo.get(\"idx\")\n",
    "        data_sets = []\n",
    "        lang = \"ch_server\"\n",
    "        for im_bytes in image_group_bytes.split(sep):\n",
    "            if  im_bytes:\n",
    "                data_sets.append( ImageDataset(im_bytes, lang=lang))\n",
    "\n",
    "        inf_res_list : list[InferenceResult] = batch_doc_analyze(\n",
    "            data_sets,\n",
    "            parse_method=\"ocr\" ,\n",
    "            lang=lang,\n",
    "            show_log=True,\n",
    "        )\n",
    "        image_dir = \"./temp\"\n",
    "        os.makedirs(image_dir,exist_ok=True)\n",
    "        image_writer = FileBasedDataWriter( image_dir)\n",
    "        final_res = {}\n",
    "\n",
    "        final_res = {\"md-content\":{},\"content-list\" : {},\"middle-json\": {}}\n",
    "        for i,inf_res in enumerate(inf_res_list):\n",
    "            pip_res: PipeResult = inf_res.pipe_ocr_mode(image_writer,lang=lang)\n",
    "            cont = pip_res.get_content_list(image_dir)\n",
    "            midd_json = pip_res.get_middle_json()\n",
    "            md_cont = pip_res.get_markdown(image_dir)\n",
    "            id = idx[i]\n",
    "            final_res[\"md-content\"][id] = md_cont\n",
    "            final_res[\"content-list\"][id] = cont\n",
    "            final_res[\"middle-json\"][id] = midd_json\n",
    "\n",
    "        return jsonify(final_res) , 200\n",
    "\n",
    "\n",
    "    except Exception as e:\n",
    "        print(traceback.format_exc())\n",
    "        print(f\"Error: {e}\")\n",
    "        return jsonify({\"error\": str(e)}), 500\n",
    "\n",
    "# This will run the Flask app and keep the notebook cell running.\n",
    "app.run(port=5000)"
   ]
  },
  {
   "cell_type": "code",
   "execution_count": null,
   "metadata": {
    "_cell_guid": "d20ab74d-cfaf-4776-b27f-b5a1789e6852",
    "_uuid": "989f0125-c856-431d-b30b-3236f8d1d500",
    "collapsed": false,
    "jupyter": {
     "outputs_hidden": false
    }
   },
   "outputs": [],
   "source": []
  },
  {
   "cell_type": "code",
   "execution_count": null,
   "metadata": {
    "_cell_guid": "b22f48fa-185e-4373-8a57-d0c3883e3bf0",
    "_uuid": "dd091cdb-a0bf-4495-a111-cedf83b3d83e",
    "collapsed": false,
    "jupyter": {
     "outputs_hidden": false
    }
   },
   "outputs": [],
   "source": []
  }
 ],
 "metadata": {
  "kaggle": {
   "accelerator": "gpu",
   "dataSources": [],
   "dockerImageVersionId": 31041,
   "isGpuEnabled": true,
   "isInternetEnabled": true,
   "language": "python",
   "sourceType": "notebook"
  },
  "kernelspec": {
   "display_name": "Python 3",
   "language": "python",
   "name": "python3"
  },
  "language_info": {
   "codemirror_mode": {
    "name": "ipython",
    "version": 3
   },
   "file_extension": ".py",
   "mimetype": "text/x-python",
   "name": "python",
   "nbconvert_exporter": "python",
   "pygments_lexer": "ipython3",
   "version": "3.11.11"
  }
 },
 "nbformat": 4,
 "nbformat_minor": 4
}
